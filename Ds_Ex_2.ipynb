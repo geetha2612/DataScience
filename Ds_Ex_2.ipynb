{
  "nbformat": 4,
  "nbformat_minor": 0,
  "metadata": {
    "colab": {
      "provenance": [],
      "mount_file_id": "15W-QK7Rr7ph6501xlEsrq91vIH2aT8SR",
      "authorship_tag": "ABX9TyMhFyElBRyleDLp5YM/x1DN",
      "include_colab_link": true
    },
    "kernelspec": {
      "name": "python3",
      "display_name": "Python 3"
    },
    "language_info": {
      "name": "python"
    }
  },
  "cells": [
    {
      "cell_type": "markdown",
      "metadata": {
        "id": "view-in-github",
        "colab_type": "text"
      },
      "source": [
        "<a href=\"https://colab.research.google.com/github/geethaammu/DataScience/blob/main/Ds_Ex_2.ipynb\" target=\"_parent\"><img src=\"https://colab.research.google.com/assets/colab-badge.svg\" alt=\"Open In Colab\"/></a>"
      ]
    },
    {
      "cell_type": "code",
      "execution_count": null,
      "metadata": {
        "id": "sp7jA7WDCrDQ",
        "colab": {
          "base_uri": "https://localhost:8080/"
        },
        "outputId": "d8acaed9-4259-412a-ec9d-31f58a2fd312"
      },
      "outputs": [
        {
          "output_type": "stream",
          "name": "stdout",
          "text": [
            "Drive already mounted at /content/drive; to attempt to forcibly remount, call drive.mount(\"/content/drive\", force_remount=True).\n"
          ]
        }
      ],
      "source": [
        "from google.colab import drive\n",
        "drive.mount('/content/drive')"
      ]
    },
    {
      "cell_type": "code",
      "source": [
        "import numpy as np # linear algebra\n",
        "import pandas as pd\n",
        "import matplotlib.pyplot as plt\n",
        "import seaborn as sns"
      ],
      "metadata": {
        "id": "nW_VKfkjZylZ"
      },
      "execution_count": null,
      "outputs": []
    },
    {
      "cell_type": "code",
      "source": [
        "action=pd.read_csv(\"/content/drive/MyDrive/action.csv\")"
      ],
      "metadata": {
        "id": "HVvctkK0FxnS"
      },
      "execution_count": null,
      "outputs": []
    },
    {
      "cell_type": "code",
      "source": [
        "action.head()"
      ],
      "metadata": {
        "colab": {
          "base_uri": "https://localhost:8080/",
          "height": 704
        },
        "id": "rfxBFzUMaiyo",
        "outputId": "1471869b-3535-4e24-a63f-fce2831d4d55"
      },
      "execution_count": null,
      "outputs": [
        {
          "output_type": "execute_result",
          "data": {
            "text/plain": [
              "    movie_id                         movie_name  year certificate  runtime  \\\n",
              "0  tt9114286     Black Panther: Wakanda Forever  2022       PG-13  161 min   \n",
              "1  tt1630029           Avatar: The Way of Water  2022       PG-13  192 min   \n",
              "2  tt5884796                              Plane  2023           R  107 min   \n",
              "3  tt6710474  Everything Everywhere All at Once  2022           R  139 min   \n",
              "4  tt5433140                             Fast X  2023         NaN      NaN   \n",
              "\n",
              "                        genre  rating  \\\n",
              "0    Action, Adventure, Drama     6.9   \n",
              "1  Action, Adventure, Fantasy     7.8   \n",
              "2            Action, Thriller     6.5   \n",
              "3   Action, Adventure, Comedy     8.0   \n",
              "4      Action, Crime, Mystery     NaN   \n",
              "\n",
              "                                         description  \\\n",
              "0  The people of Wakanda fight to protect their h...   \n",
              "1  Jake Sully lives with his newfound family form...   \n",
              "2  A pilot finds himself caught in a war zone aft...   \n",
              "3  A middle-aged Chinese immigrant is swept up in...   \n",
              "4  Dom Toretto and his family are targeted by the...   \n",
              "\n",
              "                       director       director_id  \\\n",
              "0                  Ryan Coogler  /name/nm3363032/   \n",
              "1                 James Cameron  /name/nm0000116/   \n",
              "2          Jean-François Richet  /name/nm0724938/   \n",
              "3  Dan Kwan, \\nDaniel Scheinert  /name/nm3453283/   \n",
              "4               Louis Leterrier  /name/nm0504642/   \n",
              "\n",
              "                                                star  \\\n",
              "0  Letitia Wright, \\nLupita Nyong'o, \\nDanai Guri...   \n",
              "1  Sam Worthington, \\nZoe Saldana, \\nSigourney We...   \n",
              "2  Gerard Butler, \\nMike Colter, \\nTony Goldwyn, ...   \n",
              "3  Michelle Yeoh, \\nStephanie Hsu, \\nJamie Lee Cu...   \n",
              "4  Vin Diesel, \\nJordana Brewster, \\nTyrese Gibso...   \n",
              "\n",
              "                                             star_id     votes  gross(in $)  \n",
              "0  /name/nm4004793/,/name/nm2143282/,/name/nm1775...  204835.0          NaN  \n",
              "1  /name/nm0941777/,/name/nm0757855/,/name/nm0000...  295119.0          NaN  \n",
              "2  /name/nm0124930/,/name/nm1591496/,/name/nm0001...   26220.0          NaN  \n",
              "3  /name/nm3215397/,/name/nm0000706/,/name/nm3513...  327858.0          NaN  \n",
              "4  /name/nm0004874/,/name/nm0108287/,/name/nm0879...       NaN          NaN  "
            ],
            "text/html": [
              "\n",
              "  <div id=\"df-7702e113-9759-4faa-a024-cfa4c9f44927\">\n",
              "    <div class=\"colab-df-container\">\n",
              "      <div>\n",
              "<style scoped>\n",
              "    .dataframe tbody tr th:only-of-type {\n",
              "        vertical-align: middle;\n",
              "    }\n",
              "\n",
              "    .dataframe tbody tr th {\n",
              "        vertical-align: top;\n",
              "    }\n",
              "\n",
              "    .dataframe thead th {\n",
              "        text-align: right;\n",
              "    }\n",
              "</style>\n",
              "<table border=\"1\" class=\"dataframe\">\n",
              "  <thead>\n",
              "    <tr style=\"text-align: right;\">\n",
              "      <th></th>\n",
              "      <th>movie_id</th>\n",
              "      <th>movie_name</th>\n",
              "      <th>year</th>\n",
              "      <th>certificate</th>\n",
              "      <th>runtime</th>\n",
              "      <th>genre</th>\n",
              "      <th>rating</th>\n",
              "      <th>description</th>\n",
              "      <th>director</th>\n",
              "      <th>director_id</th>\n",
              "      <th>star</th>\n",
              "      <th>star_id</th>\n",
              "      <th>votes</th>\n",
              "      <th>gross(in $)</th>\n",
              "    </tr>\n",
              "  </thead>\n",
              "  <tbody>\n",
              "    <tr>\n",
              "      <th>0</th>\n",
              "      <td>tt9114286</td>\n",
              "      <td>Black Panther: Wakanda Forever</td>\n",
              "      <td>2022</td>\n",
              "      <td>PG-13</td>\n",
              "      <td>161 min</td>\n",
              "      <td>Action, Adventure, Drama</td>\n",
              "      <td>6.9</td>\n",
              "      <td>The people of Wakanda fight to protect their h...</td>\n",
              "      <td>Ryan Coogler</td>\n",
              "      <td>/name/nm3363032/</td>\n",
              "      <td>Letitia Wright, \\nLupita Nyong'o, \\nDanai Guri...</td>\n",
              "      <td>/name/nm4004793/,/name/nm2143282/,/name/nm1775...</td>\n",
              "      <td>204835.0</td>\n",
              "      <td>NaN</td>\n",
              "    </tr>\n",
              "    <tr>\n",
              "      <th>1</th>\n",
              "      <td>tt1630029</td>\n",
              "      <td>Avatar: The Way of Water</td>\n",
              "      <td>2022</td>\n",
              "      <td>PG-13</td>\n",
              "      <td>192 min</td>\n",
              "      <td>Action, Adventure, Fantasy</td>\n",
              "      <td>7.8</td>\n",
              "      <td>Jake Sully lives with his newfound family form...</td>\n",
              "      <td>James Cameron</td>\n",
              "      <td>/name/nm0000116/</td>\n",
              "      <td>Sam Worthington, \\nZoe Saldana, \\nSigourney We...</td>\n",
              "      <td>/name/nm0941777/,/name/nm0757855/,/name/nm0000...</td>\n",
              "      <td>295119.0</td>\n",
              "      <td>NaN</td>\n",
              "    </tr>\n",
              "    <tr>\n",
              "      <th>2</th>\n",
              "      <td>tt5884796</td>\n",
              "      <td>Plane</td>\n",
              "      <td>2023</td>\n",
              "      <td>R</td>\n",
              "      <td>107 min</td>\n",
              "      <td>Action, Thriller</td>\n",
              "      <td>6.5</td>\n",
              "      <td>A pilot finds himself caught in a war zone aft...</td>\n",
              "      <td>Jean-François Richet</td>\n",
              "      <td>/name/nm0724938/</td>\n",
              "      <td>Gerard Butler, \\nMike Colter, \\nTony Goldwyn, ...</td>\n",
              "      <td>/name/nm0124930/,/name/nm1591496/,/name/nm0001...</td>\n",
              "      <td>26220.0</td>\n",
              "      <td>NaN</td>\n",
              "    </tr>\n",
              "    <tr>\n",
              "      <th>3</th>\n",
              "      <td>tt6710474</td>\n",
              "      <td>Everything Everywhere All at Once</td>\n",
              "      <td>2022</td>\n",
              "      <td>R</td>\n",
              "      <td>139 min</td>\n",
              "      <td>Action, Adventure, Comedy</td>\n",
              "      <td>8.0</td>\n",
              "      <td>A middle-aged Chinese immigrant is swept up in...</td>\n",
              "      <td>Dan Kwan, \\nDaniel Scheinert</td>\n",
              "      <td>/name/nm3453283/</td>\n",
              "      <td>Michelle Yeoh, \\nStephanie Hsu, \\nJamie Lee Cu...</td>\n",
              "      <td>/name/nm3215397/,/name/nm0000706/,/name/nm3513...</td>\n",
              "      <td>327858.0</td>\n",
              "      <td>NaN</td>\n",
              "    </tr>\n",
              "    <tr>\n",
              "      <th>4</th>\n",
              "      <td>tt5433140</td>\n",
              "      <td>Fast X</td>\n",
              "      <td>2023</td>\n",
              "      <td>NaN</td>\n",
              "      <td>NaN</td>\n",
              "      <td>Action, Crime, Mystery</td>\n",
              "      <td>NaN</td>\n",
              "      <td>Dom Toretto and his family are targeted by the...</td>\n",
              "      <td>Louis Leterrier</td>\n",
              "      <td>/name/nm0504642/</td>\n",
              "      <td>Vin Diesel, \\nJordana Brewster, \\nTyrese Gibso...</td>\n",
              "      <td>/name/nm0004874/,/name/nm0108287/,/name/nm0879...</td>\n",
              "      <td>NaN</td>\n",
              "      <td>NaN</td>\n",
              "    </tr>\n",
              "  </tbody>\n",
              "</table>\n",
              "</div>\n",
              "      <button class=\"colab-df-convert\" onclick=\"convertToInteractive('df-7702e113-9759-4faa-a024-cfa4c9f44927')\"\n",
              "              title=\"Convert this dataframe to an interactive table.\"\n",
              "              style=\"display:none;\">\n",
              "        \n",
              "  <svg xmlns=\"http://www.w3.org/2000/svg\" height=\"24px\"viewBox=\"0 0 24 24\"\n",
              "       width=\"24px\">\n",
              "    <path d=\"M0 0h24v24H0V0z\" fill=\"none\"/>\n",
              "    <path d=\"M18.56 5.44l.94 2.06.94-2.06 2.06-.94-2.06-.94-.94-2.06-.94 2.06-2.06.94zm-11 1L8.5 8.5l.94-2.06 2.06-.94-2.06-.94L8.5 2.5l-.94 2.06-2.06.94zm10 10l.94 2.06.94-2.06 2.06-.94-2.06-.94-.94-2.06-.94 2.06-2.06.94z\"/><path d=\"M17.41 7.96l-1.37-1.37c-.4-.4-.92-.59-1.43-.59-.52 0-1.04.2-1.43.59L10.3 9.45l-7.72 7.72c-.78.78-.78 2.05 0 2.83L4 21.41c.39.39.9.59 1.41.59.51 0 1.02-.2 1.41-.59l7.78-7.78 2.81-2.81c.8-.78.8-2.07 0-2.86zM5.41 20L4 18.59l7.72-7.72 1.47 1.35L5.41 20z\"/>\n",
              "  </svg>\n",
              "      </button>\n",
              "      \n",
              "  <style>\n",
              "    .colab-df-container {\n",
              "      display:flex;\n",
              "      flex-wrap:wrap;\n",
              "      gap: 12px;\n",
              "    }\n",
              "\n",
              "    .colab-df-convert {\n",
              "      background-color: #E8F0FE;\n",
              "      border: none;\n",
              "      border-radius: 50%;\n",
              "      cursor: pointer;\n",
              "      display: none;\n",
              "      fill: #1967D2;\n",
              "      height: 32px;\n",
              "      padding: 0 0 0 0;\n",
              "      width: 32px;\n",
              "    }\n",
              "\n",
              "    .colab-df-convert:hover {\n",
              "      background-color: #E2EBFA;\n",
              "      box-shadow: 0px 1px 2px rgba(60, 64, 67, 0.3), 0px 1px 3px 1px rgba(60, 64, 67, 0.15);\n",
              "      fill: #174EA6;\n",
              "    }\n",
              "\n",
              "    [theme=dark] .colab-df-convert {\n",
              "      background-color: #3B4455;\n",
              "      fill: #D2E3FC;\n",
              "    }\n",
              "\n",
              "    [theme=dark] .colab-df-convert:hover {\n",
              "      background-color: #434B5C;\n",
              "      box-shadow: 0px 1px 3px 1px rgba(0, 0, 0, 0.15);\n",
              "      filter: drop-shadow(0px 1px 2px rgba(0, 0, 0, 0.3));\n",
              "      fill: #FFFFFF;\n",
              "    }\n",
              "  </style>\n",
              "\n",
              "      <script>\n",
              "        const buttonEl =\n",
              "          document.querySelector('#df-7702e113-9759-4faa-a024-cfa4c9f44927 button.colab-df-convert');\n",
              "        buttonEl.style.display =\n",
              "          google.colab.kernel.accessAllowed ? 'block' : 'none';\n",
              "\n",
              "        async function convertToInteractive(key) {\n",
              "          const element = document.querySelector('#df-7702e113-9759-4faa-a024-cfa4c9f44927');\n",
              "          const dataTable =\n",
              "            await google.colab.kernel.invokeFunction('convertToInteractive',\n",
              "                                                     [key], {});\n",
              "          if (!dataTable) return;\n",
              "\n",
              "          const docLinkHtml = 'Like what you see? Visit the ' +\n",
              "            '<a target=\"_blank\" href=https://colab.research.google.com/notebooks/data_table.ipynb>data table notebook</a>'\n",
              "            + ' to learn more about interactive tables.';\n",
              "          element.innerHTML = '';\n",
              "          dataTable['output_type'] = 'display_data';\n",
              "          await google.colab.output.renderOutput(dataTable, element);\n",
              "          const docLink = document.createElement('div');\n",
              "          docLink.innerHTML = docLinkHtml;\n",
              "          element.appendChild(docLink);\n",
              "        }\n",
              "      </script>\n",
              "    </div>\n",
              "  </div>\n",
              "  "
            ]
          },
          "metadata": {},
          "execution_count": 5
        }
      ]
    },
    {
      "cell_type": "code",
      "source": [
        "action.info()"
      ],
      "metadata": {
        "id": "4PbfUZzXbFXw",
        "colab": {
          "base_uri": "https://localhost:8080/"
        },
        "outputId": "17e56cff-764a-414d-df42-1ee6c9a6fa97"
      },
      "execution_count": null,
      "outputs": [
        {
          "output_type": "stream",
          "name": "stdout",
          "text": [
            "<class 'pandas.core.frame.DataFrame'>\n",
            "RangeIndex: 52452 entries, 0 to 52451\n",
            "Data columns (total 14 columns):\n",
            " #   Column       Non-Null Count  Dtype  \n",
            "---  ------       --------------  -----  \n",
            " 0   movie_id     52452 non-null  object \n",
            " 1   movie_name   52452 non-null  object \n",
            " 2   year         44193 non-null  object \n",
            " 3   certificate  13668 non-null  object \n",
            " 4   runtime      32530 non-null  object \n",
            " 5   genre        52452 non-null  object \n",
            " 6   rating       29448 non-null  float64\n",
            " 7   description  52452 non-null  object \n",
            " 8   director     47819 non-null  object \n",
            " 9   director_id  47819 non-null  object \n",
            " 10  star         43212 non-null  object \n",
            " 11  star_id      44621 non-null  object \n",
            " 12  votes        29450 non-null  float64\n",
            " 13  gross(in $)  2760 non-null   float64\n",
            "dtypes: float64(3), object(11)\n",
            "memory usage: 5.6+ MB\n"
          ]
        }
      ]
    },
    {
      "cell_type": "code",
      "source": [
        "action.isnull().sum()"
      ],
      "metadata": {
        "colab": {
          "base_uri": "https://localhost:8080/"
        },
        "id": "yqPJNqosHBka",
        "outputId": "c61c8348-f203-4bc8-d527-d29e43beaac5"
      },
      "execution_count": null,
      "outputs": [
        {
          "output_type": "execute_result",
          "data": {
            "text/plain": [
              "movie_id           0\n",
              "movie_name         0\n",
              "year            8259\n",
              "certificate    38784\n",
              "runtime        19922\n",
              "genre              0\n",
              "rating         23004\n",
              "description        0\n",
              "director        4633\n",
              "director_id     4633\n",
              "star            9240\n",
              "star_id         7831\n",
              "votes          23002\n",
              "gross(in $)    49692\n",
              "dtype: int64"
            ]
          },
          "metadata": {},
          "execution_count": 7
        }
      ]
    },
    {
      "cell_type": "code",
      "source": [
        "action=action.fillna(0)"
      ],
      "metadata": {
        "id": "_FdzgwkgHnxg"
      },
      "execution_count": null,
      "outputs": []
    },
    {
      "cell_type": "code",
      "source": [
        "action.isnull().sum()"
      ],
      "metadata": {
        "colab": {
          "base_uri": "https://localhost:8080/"
        },
        "id": "eU-ih3u7H00I",
        "outputId": "ae1e9e26-055e-473c-f7a7-b1b806317912"
      },
      "execution_count": null,
      "outputs": [
        {
          "output_type": "execute_result",
          "data": {
            "text/plain": [
              "movie_id       0\n",
              "movie_name     0\n",
              "year           0\n",
              "certificate    0\n",
              "runtime        0\n",
              "genre          0\n",
              "rating         0\n",
              "description    0\n",
              "director       0\n",
              "director_id    0\n",
              "star           0\n",
              "star_id        0\n",
              "votes          0\n",
              "gross(in $)    0\n",
              "dtype: int64"
            ]
          },
          "metadata": {},
          "execution_count": 10
        }
      ]
    },
    {
      "cell_type": "code",
      "source": [
        "action[\"runtime\"]=action[\"runtime\"].str.replace(\"[,\\ min]\",\"\").astype(float)"
      ],
      "metadata": {
        "colab": {
          "base_uri": "https://localhost:8080/"
        },
        "id": "EsbjAjizII2L",
        "outputId": "c524150a-704b-4f0b-e14e-0b593cf82be2"
      },
      "execution_count": null,
      "outputs": [
        {
          "output_type": "stream",
          "name": "stderr",
          "text": [
            "<ipython-input-11-e1a0c236f1e1>:1: FutureWarning: The default value of regex will change from True to False in a future version.\n",
            "  action[\"runtime\"]=action[\"runtime\"].str.replace(\"[,\\ min]\",\"\").astype(float)\n"
          ]
        }
      ]
    },
    {
      "cell_type": "code",
      "source": [
        "action.sort_values(by=[\"gross(in $)\"],ascending = False,inplace=True,ignore_index=True)\n",
        "\n",
        "top_10=action.loc[0:9,\"movie_name\"]\n",
        "top_10"
      ],
      "metadata": {
        "colab": {
          "base_uri": "https://localhost:8080/"
        },
        "id": "SvR0U5F4IRzA",
        "outputId": "eaf50cb0-cfbc-4a62-93a2-cbc738a60722"
      },
      "execution_count": null,
      "outputs": [
        {
          "output_type": "execute_result",
          "data": {
            "text/plain": [
              "0    Star Wars: Episode VII - The Force Awakens\n",
              "1                             Avengers: Endgame\n",
              "2                       Spider-Man: No Way Home\n",
              "3                                        Avatar\n",
              "4                                 Black Panther\n",
              "5                        Avengers: Infinity War\n",
              "6                                Jurassic World\n",
              "7                                  The Avengers\n",
              "8       Star Wars: Episode VIII - The Last Jedi\n",
              "9                                 Incredibles 2\n",
              "Name: movie_name, dtype: object"
            ]
          },
          "metadata": {},
          "execution_count": 12
        }
      ]
    },
    {
      "cell_type": "code",
      "source": [
        "content_r = action[action[\"certificate\"]=='R']\n",
        "\n",
        "popular =content_r.sort_values(by=\"rating\",ascending=False,ignore_index=True)[0:10]\n",
        "popular[0:5]"
      ],
      "metadata": {
        "colab": {
          "base_uri": "https://localhost:8080/",
          "height": 652
        },
        "id": "kQHiwlzeIaq2",
        "outputId": "e9fa28d2-db9f-4390-92a8-bd087cff9cfe"
      },
      "execution_count": null,
      "outputs": [
        {
          "output_type": "execute_result",
          "data": {
            "text/plain": [
              "    movie_id                  movie_name  year certificate  runtime  \\\n",
              "0  tt1890484              No Leaf Clover  2010           R     70.0   \n",
              "1  tt2604160               Broken Chains  2017           R      NaN   \n",
              "2  tt0133093                  The Matrix  1999           R    136.0   \n",
              "3  tt1930512             The Empty Hands  2011           R     90.0   \n",
              "4  tt0103064  Terminator 2: Judgment Day  1991           R    137.0   \n",
              "\n",
              "                          genre  rating  \\\n",
              "0                        Action     8.8   \n",
              "1  Action, Adventure, Biography     8.7   \n",
              "2                Action, Sci-Fi     8.7   \n",
              "3                        Action     8.6   \n",
              "4                Action, Sci-Fi     8.6   \n",
              "\n",
              "                                         description  \\\n",
              "0  A gangster owes money to the Mafia. He kidnaps...   \n",
              "1  Brianna married a man she thought would protec...   \n",
              "2  When a beautiful stranger leads computer hacke...   \n",
              "3  A strong-willed black man motivated by the lov...   \n",
              "4  A cyborg, identical to the one who failed to k...   \n",
              "\n",
              "                            director       director_id  \\\n",
              "0                      Andrei Sporea  /name/nm4414819/   \n",
              "1                      Shannon Brown  /name/nm4574737/   \n",
              "2  Lana Wachowski, \\nLilly Wachowski  /name/nm0905154/   \n",
              "3  Mahaliel Bethea, \\nSteven Watkins  /name/nm1125293/   \n",
              "4                      James Cameron  /name/nm0000116/   \n",
              "\n",
              "                                                star  \\\n",
              "0  Andrei Sporea, \\nDelka Nenkova, \\nLenny Porter...   \n",
              "1  Denise Reed, \\nShannon Brown, \\nMark Vincent, ...   \n",
              "2  Keanu Reeves, \\nLaurence Fishburne, \\nCarrie-A...   \n",
              "3  Hermeilio Miguel Aquino, \\nMahaliel Bethea, \\n...   \n",
              "4  Arnold Schwarzenegger, \\nLinda Hamilton, \\nEdw...   \n",
              "\n",
              "                                             star_id      votes  gross(in $)  \n",
              "0  /name/nm4414819/,/name/nm3384254/,/name/nm3629...        8.0          0.0  \n",
              "1  /name/nm5163411/,/name/nm4574737/,/name/nm0898...       15.0          0.0  \n",
              "2  /name/nm0905152/,/name/nm0000206/,/name/nm0000...  1928021.0  171479930.0  \n",
              "3  /name/nm4461088/,/name/nm2091134/,/name/nm1125...       12.0          0.0  \n",
              "4  /name/nm0000216/,/name/nm0000157/,/name/nm0000...  1107913.0  204843350.0  "
            ],
            "text/html": [
              "\n",
              "  <div id=\"df-b8455c43-906d-4ed5-8fe0-424316234c03\">\n",
              "    <div class=\"colab-df-container\">\n",
              "      <div>\n",
              "<style scoped>\n",
              "    .dataframe tbody tr th:only-of-type {\n",
              "        vertical-align: middle;\n",
              "    }\n",
              "\n",
              "    .dataframe tbody tr th {\n",
              "        vertical-align: top;\n",
              "    }\n",
              "\n",
              "    .dataframe thead th {\n",
              "        text-align: right;\n",
              "    }\n",
              "</style>\n",
              "<table border=\"1\" class=\"dataframe\">\n",
              "  <thead>\n",
              "    <tr style=\"text-align: right;\">\n",
              "      <th></th>\n",
              "      <th>movie_id</th>\n",
              "      <th>movie_name</th>\n",
              "      <th>year</th>\n",
              "      <th>certificate</th>\n",
              "      <th>runtime</th>\n",
              "      <th>genre</th>\n",
              "      <th>rating</th>\n",
              "      <th>description</th>\n",
              "      <th>director</th>\n",
              "      <th>director_id</th>\n",
              "      <th>star</th>\n",
              "      <th>star_id</th>\n",
              "      <th>votes</th>\n",
              "      <th>gross(in $)</th>\n",
              "    </tr>\n",
              "  </thead>\n",
              "  <tbody>\n",
              "    <tr>\n",
              "      <th>0</th>\n",
              "      <td>tt1890484</td>\n",
              "      <td>No Leaf Clover</td>\n",
              "      <td>2010</td>\n",
              "      <td>R</td>\n",
              "      <td>70.0</td>\n",
              "      <td>Action</td>\n",
              "      <td>8.8</td>\n",
              "      <td>A gangster owes money to the Mafia. He kidnaps...</td>\n",
              "      <td>Andrei Sporea</td>\n",
              "      <td>/name/nm4414819/</td>\n",
              "      <td>Andrei Sporea, \\nDelka Nenkova, \\nLenny Porter...</td>\n",
              "      <td>/name/nm4414819/,/name/nm3384254/,/name/nm3629...</td>\n",
              "      <td>8.0</td>\n",
              "      <td>0.0</td>\n",
              "    </tr>\n",
              "    <tr>\n",
              "      <th>1</th>\n",
              "      <td>tt2604160</td>\n",
              "      <td>Broken Chains</td>\n",
              "      <td>2017</td>\n",
              "      <td>R</td>\n",
              "      <td>NaN</td>\n",
              "      <td>Action, Adventure, Biography</td>\n",
              "      <td>8.7</td>\n",
              "      <td>Brianna married a man she thought would protec...</td>\n",
              "      <td>Shannon Brown</td>\n",
              "      <td>/name/nm4574737/</td>\n",
              "      <td>Denise Reed, \\nShannon Brown, \\nMark Vincent, ...</td>\n",
              "      <td>/name/nm5163411/,/name/nm4574737/,/name/nm0898...</td>\n",
              "      <td>15.0</td>\n",
              "      <td>0.0</td>\n",
              "    </tr>\n",
              "    <tr>\n",
              "      <th>2</th>\n",
              "      <td>tt0133093</td>\n",
              "      <td>The Matrix</td>\n",
              "      <td>1999</td>\n",
              "      <td>R</td>\n",
              "      <td>136.0</td>\n",
              "      <td>Action, Sci-Fi</td>\n",
              "      <td>8.7</td>\n",
              "      <td>When a beautiful stranger leads computer hacke...</td>\n",
              "      <td>Lana Wachowski, \\nLilly Wachowski</td>\n",
              "      <td>/name/nm0905154/</td>\n",
              "      <td>Keanu Reeves, \\nLaurence Fishburne, \\nCarrie-A...</td>\n",
              "      <td>/name/nm0905152/,/name/nm0000206/,/name/nm0000...</td>\n",
              "      <td>1928021.0</td>\n",
              "      <td>171479930.0</td>\n",
              "    </tr>\n",
              "    <tr>\n",
              "      <th>3</th>\n",
              "      <td>tt1930512</td>\n",
              "      <td>The Empty Hands</td>\n",
              "      <td>2011</td>\n",
              "      <td>R</td>\n",
              "      <td>90.0</td>\n",
              "      <td>Action</td>\n",
              "      <td>8.6</td>\n",
              "      <td>A strong-willed black man motivated by the lov...</td>\n",
              "      <td>Mahaliel Bethea, \\nSteven Watkins</td>\n",
              "      <td>/name/nm1125293/</td>\n",
              "      <td>Hermeilio Miguel Aquino, \\nMahaliel Bethea, \\n...</td>\n",
              "      <td>/name/nm4461088/,/name/nm2091134/,/name/nm1125...</td>\n",
              "      <td>12.0</td>\n",
              "      <td>0.0</td>\n",
              "    </tr>\n",
              "    <tr>\n",
              "      <th>4</th>\n",
              "      <td>tt0103064</td>\n",
              "      <td>Terminator 2: Judgment Day</td>\n",
              "      <td>1991</td>\n",
              "      <td>R</td>\n",
              "      <td>137.0</td>\n",
              "      <td>Action, Sci-Fi</td>\n",
              "      <td>8.6</td>\n",
              "      <td>A cyborg, identical to the one who failed to k...</td>\n",
              "      <td>James Cameron</td>\n",
              "      <td>/name/nm0000116/</td>\n",
              "      <td>Arnold Schwarzenegger, \\nLinda Hamilton, \\nEdw...</td>\n",
              "      <td>/name/nm0000216/,/name/nm0000157/,/name/nm0000...</td>\n",
              "      <td>1107913.0</td>\n",
              "      <td>204843350.0</td>\n",
              "    </tr>\n",
              "  </tbody>\n",
              "</table>\n",
              "</div>\n",
              "      <button class=\"colab-df-convert\" onclick=\"convertToInteractive('df-b8455c43-906d-4ed5-8fe0-424316234c03')\"\n",
              "              title=\"Convert this dataframe to an interactive table.\"\n",
              "              style=\"display:none;\">\n",
              "        \n",
              "  <svg xmlns=\"http://www.w3.org/2000/svg\" height=\"24px\"viewBox=\"0 0 24 24\"\n",
              "       width=\"24px\">\n",
              "    <path d=\"M0 0h24v24H0V0z\" fill=\"none\"/>\n",
              "    <path d=\"M18.56 5.44l.94 2.06.94-2.06 2.06-.94-2.06-.94-.94-2.06-.94 2.06-2.06.94zm-11 1L8.5 8.5l.94-2.06 2.06-.94-2.06-.94L8.5 2.5l-.94 2.06-2.06.94zm10 10l.94 2.06.94-2.06 2.06-.94-2.06-.94-.94-2.06-.94 2.06-2.06.94z\"/><path d=\"M17.41 7.96l-1.37-1.37c-.4-.4-.92-.59-1.43-.59-.52 0-1.04.2-1.43.59L10.3 9.45l-7.72 7.72c-.78.78-.78 2.05 0 2.83L4 21.41c.39.39.9.59 1.41.59.51 0 1.02-.2 1.41-.59l7.78-7.78 2.81-2.81c.8-.78.8-2.07 0-2.86zM5.41 20L4 18.59l7.72-7.72 1.47 1.35L5.41 20z\"/>\n",
              "  </svg>\n",
              "      </button>\n",
              "      \n",
              "  <style>\n",
              "    .colab-df-container {\n",
              "      display:flex;\n",
              "      flex-wrap:wrap;\n",
              "      gap: 12px;\n",
              "    }\n",
              "\n",
              "    .colab-df-convert {\n",
              "      background-color: #E8F0FE;\n",
              "      border: none;\n",
              "      border-radius: 50%;\n",
              "      cursor: pointer;\n",
              "      display: none;\n",
              "      fill: #1967D2;\n",
              "      height: 32px;\n",
              "      padding: 0 0 0 0;\n",
              "      width: 32px;\n",
              "    }\n",
              "\n",
              "    .colab-df-convert:hover {\n",
              "      background-color: #E2EBFA;\n",
              "      box-shadow: 0px 1px 2px rgba(60, 64, 67, 0.3), 0px 1px 3px 1px rgba(60, 64, 67, 0.15);\n",
              "      fill: #174EA6;\n",
              "    }\n",
              "\n",
              "    [theme=dark] .colab-df-convert {\n",
              "      background-color: #3B4455;\n",
              "      fill: #D2E3FC;\n",
              "    }\n",
              "\n",
              "    [theme=dark] .colab-df-convert:hover {\n",
              "      background-color: #434B5C;\n",
              "      box-shadow: 0px 1px 3px 1px rgba(0, 0, 0, 0.15);\n",
              "      filter: drop-shadow(0px 1px 2px rgba(0, 0, 0, 0.3));\n",
              "      fill: #FFFFFF;\n",
              "    }\n",
              "  </style>\n",
              "\n",
              "      <script>\n",
              "        const buttonEl =\n",
              "          document.querySelector('#df-b8455c43-906d-4ed5-8fe0-424316234c03 button.colab-df-convert');\n",
              "        buttonEl.style.display =\n",
              "          google.colab.kernel.accessAllowed ? 'block' : 'none';\n",
              "\n",
              "        async function convertToInteractive(key) {\n",
              "          const element = document.querySelector('#df-b8455c43-906d-4ed5-8fe0-424316234c03');\n",
              "          const dataTable =\n",
              "            await google.colab.kernel.invokeFunction('convertToInteractive',\n",
              "                                                     [key], {});\n",
              "          if (!dataTable) return;\n",
              "\n",
              "          const docLinkHtml = 'Like what you see? Visit the ' +\n",
              "            '<a target=\"_blank\" href=https://colab.research.google.com/notebooks/data_table.ipynb>data table notebook</a>'\n",
              "            + ' to learn more about interactive tables.';\n",
              "          element.innerHTML = '';\n",
              "          dataTable['output_type'] = 'display_data';\n",
              "          await google.colab.output.renderOutput(dataTable, element);\n",
              "          const docLink = document.createElement('div');\n",
              "          docLink.innerHTML = docLinkHtml;\n",
              "          element.appendChild(docLink);\n",
              "        }\n",
              "      </script>\n",
              "    </div>\n",
              "  </div>\n",
              "  "
            ]
          },
          "metadata": {},
          "execution_count": 13
        }
      ]
    },
    {
      "cell_type": "code",
      "source": [
        "plt.barh(action.loc[0:9,\"movie_name\"],action.loc[0:9,\"gross(in $)\"])\n",
        "plt.title(\"Highest Grossing Movies\")\n",
        "plt.xlabel(\"Revenue In Million\")\n",
        "plt.ylabel(\"Movie Name\")"
      ],
      "metadata": {
        "colab": {
          "base_uri": "https://localhost:8080/",
          "height": 312
        },
        "id": "f4Yy7TOmIeeI",
        "outputId": "b24e7974-7415-4839-8879-052973692a03"
      },
      "execution_count": null,
      "outputs": [
        {
          "output_type": "execute_result",
          "data": {
            "text/plain": [
              "Text(0, 0.5, 'Movie Name')"
            ]
          },
          "metadata": {},
          "execution_count": 14
        },
        {
          "output_type": "display_data",
          "data": {
            "text/plain": [
              "<Figure size 432x288 with 1 Axes>"
            ],
            "image/png": "[encoded data removed]"
          },
          "metadata": {
            "needs_background": "light"
          }
        }
      ]
    },
    {
      "cell_type": "code",
      "source": [
        "action.sort_values(by=[\"gross(in $)\"],ascending = False,inplace=True,ignore_index=True)\n",
        "\n",
        "top_10=action.loc[0:9,\"movie_name\"]\n",
        "top_10_rating=action.loc[0:9,\"rating\"]\n",
        "plt.barh(action.loc[0:9,\"movie_name\"],action.loc[0:9,\"rating\"])\n",
        "plt.title(\"Highest Rated Movies\")\n",
        "plt.xlabel(\"Ratings On IMDB\")\n",
        "plt.ylabel(\"Movie Name\")"
      ],
      "metadata": {
        "colab": {
          "base_uri": "https://localhost:8080/",
          "height": 312
        },
        "id": "_3FimghaIlM3",
        "outputId": "ff131939-bcd7-414c-d26a-0fba706dc8b8"
      },
      "execution_count": null,
      "outputs": [
        {
          "output_type": "execute_result",
          "data": {
            "text/plain": [
              "Text(0, 0.5, 'Movie Name')"
            ]
          },
          "metadata": {},
          "execution_count": 15
        },
        {
          "output_type": "display_data",
          "data": {
            "text/plain": [
              "<Figure size 432x288 with 1 Axes>"
            ],
            "image/png": "[encoded data removed]"
          },
          "metadata": {
            "needs_background": "light"
          }
        }
      ]
    },
    {
      "cell_type": "code",
      "source": [
        "action.sort_values(by=[\"gross(in $)\"],ascending = False,inplace=True,ignore_index=True)\n",
        "\n",
        "top_10=action.loc[0:9,\"movie_name\"]\n",
        "top_10_rating=action.loc[0:9,\"votes\"]\n",
        "plt.barh(action.loc[0:9,\"movie_name\"],action.loc[0:9,\"rating\"])\n",
        "plt.title(\"Highest Rated Movies\")\n",
        "plt.xlabel(\"Votes\")\n",
        "plt.ylabel(\"Movie Name\")"
      ],
      "metadata": {
        "colab": {
          "base_uri": "https://localhost:8080/",
          "height": 312
        },
        "id": "1iT-B3TCIsk7",
        "outputId": "aa7f5917-8b1a-43d9-cec2-65ede0fb7c77"
      },
      "execution_count": null,
      "outputs": [
        {
          "output_type": "execute_result",
          "data": {
            "text/plain": [
              "Text(0, 0.5, 'Movie Name')"
            ]
          },
          "metadata": {},
          "execution_count": 16
        },
        {
          "output_type": "display_data",
          "data": {
            "text/plain": [
              "<Figure size 432x288 with 1 Axes>"
            ],
            "image/png": "[encoded data removed]"
          },
          "metadata": {
            "needs_background": "light"
          }
        }
      ]
    },
    {
      "cell_type": "code",
      "source": [
        "result = action.sort_values(by='runtime', ascending=False,ignore_index=True)[0:10]\n",
        "result[0:9]"
      ],
      "metadata": {
        "colab": {
          "base_uri": "https://localhost:8080/",
          "height": 1000
        },
        "id": "ZeeXXC4fI-kE",
        "outputId": "bfd15f89-11e7-431c-a40c-872dad491eb5"
      },
      "execution_count": null,
      "outputs": [
        {
          "output_type": "execute_result",
          "data": {
            "text/plain": [
              "    movie_id                 movie_name  year certificate  runtime  \\\n",
              "0  tt7321476                       h36:  2017           0   2160.0   \n",
              "1  tt0004052       The Hazards of Helen  1914           0   1428.0   \n",
              "2  tt1483347  Cicak-Man 2: Planet Hitam  2008           0    999.0   \n",
              "3  tt3229648                Cicak-Man 3  2015           0    999.0   \n",
              "4  tt0131597                      Split  2004   Not Rated    700.0   \n",
              "5  tt1895288  A História de João e Zeca  2011           0    605.0   \n",
              "6  tt0006206               Les vampires  1915   Not Rated    421.0   \n",
              "7  tt0009204          The House of Hate  1918           0    410.0   \n",
              "8  tt0007932             The Fatal Ring  1917           0    400.0   \n",
              "\n",
              "                      genre  rating  \\\n",
              "0                    Action     0.0   \n",
              "1                    Action     6.9   \n",
              "2    Action, Comedy, Sci-Fi     3.3   \n",
              "3    Action, Comedy, Sci-Fi     3.7   \n",
              "4     Action, Crime, Sci-Fi     5.2   \n",
              "5             Action, Crime     0.0   \n",
              "6  Action, Adventure, Crime     7.3   \n",
              "7             Action, Drama     6.8   \n",
              "8             Action, Drama     6.5   \n",
              "\n",
              "                                         description  \\\n",
              "0  An attempt to bring the border between fiction...   \n",
              "1  Helen, informed of the danger which menaces an...   \n",
              "2  The evil Professor Klon is back, not only to o...   \n",
              "3  Set after 7 years of the event of Cicakman 2: ...   \n",
              "4  Split is a joltingly visual techno thriller th...   \n",
              "5                                         Add a Plot   \n",
              "6  An intrepid reporter and his loyal friend batt...   \n",
              "7  A young heiress of an American gun factory is ...   \n",
              "8  Episode 1: \"The Violet Diamond\" Pearl Standish...   \n",
              "\n",
              "                                            director       director_id  \\\n",
              "0                                  Fabio Bastianello  /name/nm4176206/   \n",
              "1  J. Gunnis Davis, \\nJ.P. McGowan, \\nRobert G. V...  /name/nm0204724/   \n",
              "2                                    Yusry Abd Halim  /name/nm1126474/   \n",
              "3                  Ghaz Abu Bakar, \\nYusry Abd Halim  /name/nm4323528/   \n",
              "4                                       Chaim Bianco  /name/nm0080719/   \n",
              "5                    Paulo de Biasi, \\nBruno Villela  /name/nm4420449/   \n",
              "6                                    Louis Feuillade  /name/nm0275421/   \n",
              "7                                    George B. Seitz  /name/nm0782707/   \n",
              "8                                    George B. Seitz  /name/nm0782707/   \n",
              "\n",
              "                                                star  \\\n",
              "0  Loria Brambillasca, \\nValdo Campos, \\nFrancesc...   \n",
              "1  Helen Holmes, \\nHelen Gibson, \\nJ.P. McGowan, ...   \n",
              "2  Saiful Apek, \\nFasha Sandha, \\nAznil Hj Nawawi...   \n",
              "3  Zizan Razak, \\nLisa Surihani, \\nFizz Fairuz, \\...   \n",
              "4  Sean Miller, \\nJonny Spanish, \\nJulienne Hanze...   \n",
              "5                                     Manoel Madeira   \n",
              "6  Musidora, \\nÉdouard Mathé, \\nMarcel Lévesque, ...   \n",
              "7  Pearl White, \\nAntonio Moreno, \\nJohn Webb Dil...   \n",
              "8  Pearl White, \\nEarle Foxe, \\nWarner Oland, \\nR...   \n",
              "\n",
              "                                             star_id   votes  gross(in $)  \n",
              "0  /name/nm9243852/,/name/nm9243855/,/name/nm9243...     0.0          0.0  \n",
              "1  /name/nm0569645/,/name/nm0897085/,/name/nm0391...   112.0          0.0  \n",
              "2  /name/nm1004978/,/name/nm1413294/,/name/nm2809...   150.0          0.0  \n",
              "3  /name/nm1126474/,/name/nm3736757/,/name/nm3603...   149.0          0.0  \n",
              "4  /name/nm1317822/,/name/nm0816839/,/name/nm0453...    24.0          0.0  \n",
              "5                  /name/nm4420841/,/name/nm4420966/     0.0          0.0  \n",
              "6  /name/nm0615736/,/name/nm0559013/,/name/nm0529...  5087.0          0.0  \n",
              "7  /name/nm0925310/,/name/nm0603875/,/name/nm0227...    28.0          0.0  \n",
              "8  /name/nm0925310/,/name/nm0289317/,/name/nm0645...    18.0          0.0  "
            ],
            "text/html": [
              "\n",
              "  <div id=\"df-a5e9128b-1f3b-4dfa-a9c2-3b42c8939bd1\">\n",
              "    <div class=\"colab-df-container\">\n",
              "      <div>\n",
              "<style scoped>\n",
              "    .dataframe tbody tr th:only-of-type {\n",
              "        vertical-align: middle;\n",
              "    }\n",
              "\n",
              "    .dataframe tbody tr th {\n",
              "        vertical-align: top;\n",
              "    }\n",
              "\n",
              "    .dataframe thead th {\n",
              "        text-align: right;\n",
              "    }\n",
              "</style>\n",
              "<table border=\"1\" class=\"dataframe\">\n",
              "  <thead>\n",
              "    <tr style=\"text-align: right;\">\n",
              "      <th></th>\n",
              "      <th>movie_id</th>\n",
              "      <th>movie_name</th>\n",
              "      <th>year</th>\n",
              "      <th>certificate</th>\n",
              "      <th>runtime</th>\n",
              "      <th>genre</th>\n",
              "      <th>rating</th>\n",
              "      <th>description</th>\n",
              "      <th>director</th>\n",
              "      <th>director_id</th>\n",
              "      <th>star</th>\n",
              "      <th>star_id</th>\n",
              "      <th>votes</th>\n",
              "      <th>gross(in $)</th>\n",
              "    </tr>\n",
              "  </thead>\n",
              "  <tbody>\n",
              "    <tr>\n",
              "      <th>0</th>\n",
              "      <td>tt7321476</td>\n",
              "      <td>h36:</td>\n",
              "      <td>2017</td>\n",
              "      <td>0</td>\n",
              "      <td>2160.0</td>\n",
              "      <td>Action</td>\n",
              "      <td>0.0</td>\n",
              "      <td>An attempt to bring the border between fiction...</td>\n",
              "      <td>Fabio Bastianello</td>\n",
              "      <td>/name/nm4176206/</td>\n",
              "      <td>Loria Brambillasca, \\nValdo Campos, \\nFrancesc...</td>\n",
              "      <td>/name/nm9243852/,/name/nm9243855/,/name/nm9243...</td>\n",
              "      <td>0.0</td>\n",
              "      <td>0.0</td>\n",
              "    </tr>\n",
              "    <tr>\n",
              "      <th>1</th>\n",
              "      <td>tt0004052</td>\n",
              "      <td>The Hazards of Helen</td>\n",
              "      <td>1914</td>\n",
              "      <td>0</td>\n",
              "      <td>1428.0</td>\n",
              "      <td>Action</td>\n",
              "      <td>6.9</td>\n",
              "      <td>Helen, informed of the danger which menaces an...</td>\n",
              "      <td>J. Gunnis Davis, \\nJ.P. McGowan, \\nRobert G. V...</td>\n",
              "      <td>/name/nm0204724/</td>\n",
              "      <td>Helen Holmes, \\nHelen Gibson, \\nJ.P. McGowan, ...</td>\n",
              "      <td>/name/nm0569645/,/name/nm0897085/,/name/nm0391...</td>\n",
              "      <td>112.0</td>\n",
              "      <td>0.0</td>\n",
              "    </tr>\n",
              "    <tr>\n",
              "      <th>2</th>\n",
              "      <td>tt1483347</td>\n",
              "      <td>Cicak-Man 2: Planet Hitam</td>\n",
              "      <td>2008</td>\n",
              "      <td>0</td>\n",
              "      <td>999.0</td>\n",
              "      <td>Action, Comedy, Sci-Fi</td>\n",
              "      <td>3.3</td>\n",
              "      <td>The evil Professor Klon is back, not only to o...</td>\n",
              "      <td>Yusry Abd Halim</td>\n",
              "      <td>/name/nm1126474/</td>\n",
              "      <td>Saiful Apek, \\nFasha Sandha, \\nAznil Hj Nawawi...</td>\n",
              "      <td>/name/nm1004978/,/name/nm1413294/,/name/nm2809...</td>\n",
              "      <td>150.0</td>\n",
              "      <td>0.0</td>\n",
              "    </tr>\n",
              "    <tr>\n",
              "      <th>3</th>\n",
              "      <td>tt3229648</td>\n",
              "      <td>Cicak-Man 3</td>\n",
              "      <td>2015</td>\n",
              "      <td>0</td>\n",
              "      <td>999.0</td>\n",
              "      <td>Action, Comedy, Sci-Fi</td>\n",
              "      <td>3.7</td>\n",
              "      <td>Set after 7 years of the event of Cicakman 2: ...</td>\n",
              "      <td>Ghaz Abu Bakar, \\nYusry Abd Halim</td>\n",
              "      <td>/name/nm4323528/</td>\n",
              "      <td>Zizan Razak, \\nLisa Surihani, \\nFizz Fairuz, \\...</td>\n",
              "      <td>/name/nm1126474/,/name/nm3736757/,/name/nm3603...</td>\n",
              "      <td>149.0</td>\n",
              "      <td>0.0</td>\n",
              "    </tr>\n",
              "    <tr>\n",
              "      <th>4</th>\n",
              "      <td>tt0131597</td>\n",
              "      <td>Split</td>\n",
              "      <td>2004</td>\n",
              "      <td>Not Rated</td>\n",
              "      <td>700.0</td>\n",
              "      <td>Action, Crime, Sci-Fi</td>\n",
              "      <td>5.2</td>\n",
              "      <td>Split is a joltingly visual techno thriller th...</td>\n",
              "      <td>Chaim Bianco</td>\n",
              "      <td>/name/nm0080719/</td>\n",
              "      <td>Sean Miller, \\nJonny Spanish, \\nJulienne Hanze...</td>\n",
              "      <td>/name/nm1317822/,/name/nm0816839/,/name/nm0453...</td>\n",
              "      <td>24.0</td>\n",
              "      <td>0.0</td>\n",
              "    </tr>\n",
              "    <tr>\n",
              "      <th>5</th>\n",
              "      <td>tt1895288</td>\n",
              "      <td>A História de João e Zeca</td>\n",
              "      <td>2011</td>\n",
              "      <td>0</td>\n",
              "      <td>605.0</td>\n",
              "      <td>Action, Crime</td>\n",
              "      <td>0.0</td>\n",
              "      <td>Add a Plot</td>\n",
              "      <td>Paulo de Biasi, \\nBruno Villela</td>\n",
              "      <td>/name/nm4420449/</td>\n",
              "      <td>Manoel Madeira</td>\n",
              "      <td>/name/nm4420841/,/name/nm4420966/</td>\n",
              "      <td>0.0</td>\n",
              "      <td>0.0</td>\n",
              "    </tr>\n",
              "    <tr>\n",
              "      <th>6</th>\n",
              "      <td>tt0006206</td>\n",
              "      <td>Les vampires</td>\n",
              "      <td>1915</td>\n",
              "      <td>Not Rated</td>\n",
              "      <td>421.0</td>\n",
              "      <td>Action, Adventure, Crime</td>\n",
              "      <td>7.3</td>\n",
              "      <td>An intrepid reporter and his loyal friend batt...</td>\n",
              "      <td>Louis Feuillade</td>\n",
              "      <td>/name/nm0275421/</td>\n",
              "      <td>Musidora, \\nÉdouard Mathé, \\nMarcel Lévesque, ...</td>\n",
              "      <td>/name/nm0615736/,/name/nm0559013/,/name/nm0529...</td>\n",
              "      <td>5087.0</td>\n",
              "      <td>0.0</td>\n",
              "    </tr>\n",
              "    <tr>\n",
              "      <th>7</th>\n",
              "      <td>tt0009204</td>\n",
              "      <td>The House of Hate</td>\n",
              "      <td>1918</td>\n",
              "      <td>0</td>\n",
              "      <td>410.0</td>\n",
              "      <td>Action, Drama</td>\n",
              "      <td>6.8</td>\n",
              "      <td>A young heiress of an American gun factory is ...</td>\n",
              "      <td>George B. Seitz</td>\n",
              "      <td>/name/nm0782707/</td>\n",
              "      <td>Pearl White, \\nAntonio Moreno, \\nJohn Webb Dil...</td>\n",
              "      <td>/name/nm0925310/,/name/nm0603875/,/name/nm0227...</td>\n",
              "      <td>28.0</td>\n",
              "      <td>0.0</td>\n",
              "    </tr>\n",
              "    <tr>\n",
              "      <th>8</th>\n",
              "      <td>tt0007932</td>\n",
              "      <td>The Fatal Ring</td>\n",
              "      <td>1917</td>\n",
              "      <td>0</td>\n",
              "      <td>400.0</td>\n",
              "      <td>Action, Drama</td>\n",
              "      <td>6.5</td>\n",
              "      <td>Episode 1: \"The Violet Diamond\" Pearl Standish...</td>\n",
              "      <td>George B. Seitz</td>\n",
              "      <td>/name/nm0782707/</td>\n",
              "      <td>Pearl White, \\nEarle Foxe, \\nWarner Oland, \\nR...</td>\n",
              "      <td>/name/nm0925310/,/name/nm0289317/,/name/nm0645...</td>\n",
              "      <td>18.0</td>\n",
              "      <td>0.0</td>\n",
              "    </tr>\n",
              "  </tbody>\n",
              "</table>\n",
              "</div>\n",
              "      <button class=\"colab-df-convert\" onclick=\"convertToInteractive('df-a5e9128b-1f3b-4dfa-a9c2-3b42c8939bd1')\"\n",
              "              title=\"Convert this dataframe to an interactive table.\"\n",
              "              style=\"display:none;\">\n",
              "        \n",
              "  <svg xmlns=\"http://www.w3.org/2000/svg\" height=\"24px\"viewBox=\"0 0 24 24\"\n",
              "       width=\"24px\">\n",
              "    <path d=\"M0 0h24v24H0V0z\" fill=\"none\"/>\n",
              "    <path d=\"M18.56 5.44l.94 2.06.94-2.06 2.06-.94-2.06-.94-.94-2.06-.94 2.06-2.06.94zm-11 1L8.5 8.5l.94-2.06 2.06-.94-2.06-.94L8.5 2.5l-.94 2.06-2.06.94zm10 10l.94 2.06.94-2.06 2.06-.94-2.06-.94-.94-2.06-.94 2.06-2.06.94z\"/><path d=\"M17.41 7.96l-1.37-1.37c-.4-.4-.92-.59-1.43-.59-.52 0-1.04.2-1.43.59L10.3 9.45l-7.72 7.72c-.78.78-.78 2.05 0 2.83L4 21.41c.39.39.9.59 1.41.59.51 0 1.02-.2 1.41-.59l7.78-7.78 2.81-2.81c.8-.78.8-2.07 0-2.86zM5.41 20L4 18.59l7.72-7.72 1.47 1.35L5.41 20z\"/>\n",
              "  </svg>\n",
              "      </button>\n",
              "      \n",
              "  <style>\n",
              "    .colab-df-container {\n",
              "      display:flex;\n",
              "      flex-wrap:wrap;\n",
              "      gap: 12px;\n",
              "    }\n",
              "\n",
              "    .colab-df-convert {\n",
              "      background-color: #E8F0FE;\n",
              "      border: none;\n",
              "      border-radius: 50%;\n",
              "      cursor: pointer;\n",
              "      display: none;\n",
              "      fill: #1967D2;\n",
              "      height: 32px;\n",
              "      padding: 0 0 0 0;\n",
              "      width: 32px;\n",
              "    }\n",
              "\n",
              "    .colab-df-convert:hover {\n",
              "      background-color: #E2EBFA;\n",
              "      box-shadow: 0px 1px 2px rgba(60, 64, 67, 0.3), 0px 1px 3px 1px rgba(60, 64, 67, 0.15);\n",
              "      fill: #174EA6;\n",
              "    }\n",
              "\n",
              "    [theme=dark] .colab-df-convert {\n",
              "      background-color: #3B4455;\n",
              "      fill: #D2E3FC;\n",
              "    }\n",
              "\n",
              "    [theme=dark] .colab-df-convert:hover {\n",
              "      background-color: #434B5C;\n",
              "      box-shadow: 0px 1px 3px 1px rgba(0, 0, 0, 0.15);\n",
              "      filter: drop-shadow(0px 1px 2px rgba(0, 0, 0, 0.3));\n",
              "      fill: #FFFFFF;\n",
              "    }\n",
              "  </style>\n",
              "\n",
              "      <script>\n",
              "        const buttonEl =\n",
              "          document.querySelector('#df-a5e9128b-1f3b-4dfa-a9c2-3b42c8939bd1 button.colab-df-convert');\n",
              "        buttonEl.style.display =\n",
              "          google.colab.kernel.accessAllowed ? 'block' : 'none';\n",
              "\n",
              "        async function convertToInteractive(key) {\n",
              "          const element = document.querySelector('#df-a5e9128b-1f3b-4dfa-a9c2-3b42c8939bd1');\n",
              "          const dataTable =\n",
              "            await google.colab.kernel.invokeFunction('convertToInteractive',\n",
              "                                                     [key], {});\n",
              "          if (!dataTable) return;\n",
              "\n",
              "          const docLinkHtml = 'Like what you see? Visit the ' +\n",
              "            '<a target=\"_blank\" href=https://colab.research.google.com/notebooks/data_table.ipynb>data table notebook</a>'\n",
              "            + ' to learn more about interactive tables.';\n",
              "          element.innerHTML = '';\n",
              "          dataTable['output_type'] = 'display_data';\n",
              "          await google.colab.output.renderOutput(dataTable, element);\n",
              "          const docLink = document.createElement('div');\n",
              "          docLink.innerHTML = docLinkHtml;\n",
              "          element.appendChild(docLink);\n",
              "        }\n",
              "      </script>\n",
              "    </div>\n",
              "  </div>\n",
              "  "
            ]
          },
          "metadata": {},
          "execution_count": 17
        }
      ]
    },
    {
      "cell_type": "code",
      "source": [
        "plt.figure(figsize=[8,4])\n",
        "run=sns.distplot(action[\"runtime\"])\n",
        "run.axes.set_title(\"Movie Runtime Distribution\",fontsize=20)\n",
        "run.set_xlabel(\"Runtime\",fontsize=15)\n",
        "run.set_ylabel(\"Frequency\",fontsize=15)\n",
        "run.axes.set_xlim(0, 200)\n",
        "plt.show();"
      ],
      "metadata": {
        "colab": {
          "base_uri": "https://localhost:8080/",
          "height": 360
        },
        "id": "KDWRWPWWJDhN",
        "outputId": "872d6ea7-7a1f-42fe-e0ff-1680c6d152f9"
      },
      "execution_count": null,
      "outputs": [
        {
          "output_type": "stream",
          "name": "stderr",
          "text": [
            "/usr/local/lib/python3.8/dist-packages/seaborn/distributions.py:2619: FutureWarning: `distplot` is a deprecated function and will be removed in a future version. Please adapt your code to use either `displot` (a figure-level function with similar flexibility) or `histplot` (an axes-level function for histograms).\n",
            "  warnings.warn(msg, FutureWarning)\n"
          ]
        },
        {
          "output_type": "display_data",
          "data": {
            "text/plain": [
              "<Figure size 576x288 with 1 Axes>"
            ],
            "image/png": "[encoded data removed]"
          },
          "metadata": {
            "needs_background": "light"
          }
        }
      ]
    },
    {
      "cell_type": "code",
      "source": [
        "plt.scatter(action[\"runtime\"],action[\"gross(in $)\"])\n",
        "plt.title(\"Durations VS Revenue\")\n",
        "plt.xlabel(\"Duration in Minutes\")\n",
        "plt.ylabel(\"Revenue In Millions\")\n",
        "run.axes.set_xlim(0, 200)"
      ],
      "metadata": {
        "colab": {
          "base_uri": "https://localhost:8080/",
          "height": 312
        },
        "id": "48cHggoQJQsw",
        "outputId": "f4a73595-bd9d-4c84-9683-c944a10ace41"
      },
      "execution_count": null,
      "outputs": [
        {
          "output_type": "execute_result",
          "data": {
            "text/plain": [
              "(0.0, 200.0)"
            ]
          },
          "metadata": {},
          "execution_count": 19
        },
        {
          "output_type": "display_data",
          "data": {
            "text/plain": [
              "<Figure size 432x288 with 1 Axes>"
            ],
            "image/png": "[encoded data removed]"
          },
          "metadata": {
            "needs_background": "light"
          }
        }
      ]
    },
    {
      "cell_type": "code",
      "source": [
        "plt.hist(action[\"rating\"]); #as I converted the NaN values to 0 the count of 0 rating is high\n",
        "plt.xlabel(\"Movie Rating\")"
      ],
      "metadata": {
        "colab": {
          "base_uri": "https://localhost:8080/",
          "height": 296
        },
        "id": "JzDuWYWxJaFX",
        "outputId": "81e17d59-1cde-448d-c836-d36756b6eeb2"
      },
      "execution_count": null,
      "outputs": [
        {
          "output_type": "execute_result",
          "data": {
            "text/plain": [
              "Text(0.5, 0, 'Movie Rating')"
            ]
          },
          "metadata": {},
          "execution_count": 20
        },
        {
          "output_type": "display_data",
          "data": {
            "text/plain": [
              "<Figure size 432x288 with 1 Axes>"
            ],
            "image/png": "[encoded data removed]"
          },
          "metadata": {
            "needs_background": "light"
          }
        }
      ]
    },
    {
      "cell_type": "code",
      "source": [
        "plt.scatter(action[\"rating\"],action[\"votes\"])\n",
        "plt.xlabel(\"Rating Outoff 10\")\n",
        "plt.ylabel(\"Votes In Lakhs\")"
      ],
      "metadata": {
        "colab": {
          "base_uri": "https://localhost:8080/",
          "height": 307
        },
        "id": "jUdzNC6gJwT3",
        "outputId": "ebe86bdc-af17-4ae2-c2dc-e6b175152e69"
      },
      "execution_count": null,
      "outputs": [
        {
          "output_type": "execute_result",
          "data": {
            "text/plain": [
              "Text(0, 0.5, 'Votes In Lakhs')"
            ]
          },
          "metadata": {},
          "execution_count": 21
        },
        {
          "output_type": "display_data",
          "data": {
            "text/plain": [
              "<Figure size 432x288 with 1 Axes>"
            ],
            "image/png": "[encoded data removed]"
          },
          "metadata": {
            "needs_background": "light"
          }
        }
      ]
    },
    {
      "cell_type": "code",
      "source": [
        "movies_by_year = action.groupby('year')['movie_id'].count().reset_index()\n",
        "movies_by_year"
      ],
      "metadata": {
        "colab": {
          "base_uri": "https://localhost:8080/",
          "height": 423
        },
        "id": "rz15U8guJn_I",
        "outputId": "93478f4b-02f9-4325-bfa0-a5ab7246b82c"
      },
      "execution_count": null,
      "outputs": [
        {
          "output_type": "execute_result",
          "data": {
            "text/plain": [
              "       year  movie_id\n",
              "0         0      8259\n",
              "1      1906         1\n",
              "2      1910         1\n",
              "3      1911         1\n",
              "4      1912         3\n",
              "..      ...       ...\n",
              "153    XXXI         1\n",
              "154   XXXII         1\n",
              "155  XXXIII         3\n",
              "156   XXXIV         2\n",
              "157   XXXVI         1\n",
              "\n",
              "[158 rows x 2 columns]"
            ],
            "text/html": [
              "\n",
              "  <div id=\"df-e10b1d7d-714b-4315-a34f-9e3841bbb956\">\n",
              "    <div class=\"colab-df-container\">\n",
              "      <div>\n",
              "<style scoped>\n",
              "    .dataframe tbody tr th:only-of-type {\n",
              "        vertical-align: middle;\n",
              "    }\n",
              "\n",
              "    .dataframe tbody tr th {\n",
              "        vertical-align: top;\n",
              "    }\n",
              "\n",
              "    .dataframe thead th {\n",
              "        text-align: right;\n",
              "    }\n",
              "</style>\n",
              "<table border=\"1\" class=\"dataframe\">\n",
              "  <thead>\n",
              "    <tr style=\"text-align: right;\">\n",
              "      <th></th>\n",
              "      <th>year</th>\n",
              "      <th>movie_id</th>\n",
              "    </tr>\n",
              "  </thead>\n",
              "  <tbody>\n",
              "    <tr>\n",
              "      <th>0</th>\n",
              "      <td>0</td>\n",
              "      <td>8259</td>\n",
              "    </tr>\n",
              "    <tr>\n",
              "      <th>1</th>\n",
              "      <td>1906</td>\n",
              "      <td>1</td>\n",
              "    </tr>\n",
              "    <tr>\n",
              "      <th>2</th>\n",
              "      <td>1910</td>\n",
              "      <td>1</td>\n",
              "    </tr>\n",
              "    <tr>\n",
              "      <th>3</th>\n",
              "      <td>1911</td>\n",
              "      <td>1</td>\n",
              "    </tr>\n",
              "    <tr>\n",
              "      <th>4</th>\n",
              "      <td>1912</td>\n",
              "      <td>3</td>\n",
              "    </tr>\n",
              "    <tr>\n",
              "      <th>...</th>\n",
              "      <td>...</td>\n",
              "      <td>...</td>\n",
              "    </tr>\n",
              "    <tr>\n",
              "      <th>153</th>\n",
              "      <td>XXXI</td>\n",
              "      <td>1</td>\n",
              "    </tr>\n",
              "    <tr>\n",
              "      <th>154</th>\n",
              "      <td>XXXII</td>\n",
              "      <td>1</td>\n",
              "    </tr>\n",
              "    <tr>\n",
              "      <th>155</th>\n",
              "      <td>XXXIII</td>\n",
              "      <td>3</td>\n",
              "    </tr>\n",
              "    <tr>\n",
              "      <th>156</th>\n",
              "      <td>XXXIV</td>\n",
              "      <td>2</td>\n",
              "    </tr>\n",
              "    <tr>\n",
              "      <th>157</th>\n",
              "      <td>XXXVI</td>\n",
              "      <td>1</td>\n",
              "    </tr>\n",
              "  </tbody>\n",
              "</table>\n",
              "<p>158 rows × 2 columns</p>\n",
              "</div>\n",
              "      <button class=\"colab-df-convert\" onclick=\"convertToInteractive('df-e10b1d7d-714b-4315-a34f-9e3841bbb956')\"\n",
              "              title=\"Convert this dataframe to an interactive table.\"\n",
              "              style=\"display:none;\">\n",
              "        \n",
              "  <svg xmlns=\"http://www.w3.org/2000/svg\" height=\"24px\"viewBox=\"0 0 24 24\"\n",
              "       width=\"24px\">\n",
              "    <path d=\"M0 0h24v24H0V0z\" fill=\"none\"/>\n",
              "    <path d=\"M18.56 5.44l.94 2.06.94-2.06 2.06-.94-2.06-.94-.94-2.06-.94 2.06-2.06.94zm-11 1L8.5 8.5l.94-2.06 2.06-.94-2.06-.94L8.5 2.5l-.94 2.06-2.06.94zm10 10l.94 2.06.94-2.06 2.06-.94-2.06-.94-.94-2.06-.94 2.06-2.06.94z\"/><path d=\"M17.41 7.96l-1.37-1.37c-.4-.4-.92-.59-1.43-.59-.52 0-1.04.2-1.43.59L10.3 9.45l-7.72 7.72c-.78.78-.78 2.05 0 2.83L4 21.41c.39.39.9.59 1.41.59.51 0 1.02-.2 1.41-.59l7.78-7.78 2.81-2.81c.8-.78.8-2.07 0-2.86zM5.41 20L4 18.59l7.72-7.72 1.47 1.35L5.41 20z\"/>\n",
              "  </svg>\n",
              "      </button>\n",
              "      \n",
              "  <style>\n",
              "    .colab-df-container {\n",
              "      display:flex;\n",
              "      flex-wrap:wrap;\n",
              "      gap: 12px;\n",
              "    }\n",
              "\n",
              "    .colab-df-convert {\n",
              "      background-color: #E8F0FE;\n",
              "      border: none;\n",
              "      border-radius: 50%;\n",
              "      cursor: pointer;\n",
              "      display: none;\n",
              "      fill: #1967D2;\n",
              "      height: 32px;\n",
              "      padding: 0 0 0 0;\n",
              "      width: 32px;\n",
              "    }\n",
              "\n",
              "    .colab-df-convert:hover {\n",
              "      background-color: #E2EBFA;\n",
              "      box-shadow: 0px 1px 2px rgba(60, 64, 67, 0.3), 0px 1px 3px 1px rgba(60, 64, 67, 0.15);\n",
              "      fill: #174EA6;\n",
              "    }\n",
              "\n",
              "    [theme=dark] .colab-df-convert {\n",
              "      background-color: #3B4455;\n",
              "      fill: #D2E3FC;\n",
              "    }\n",
              "\n",
              "    [theme=dark] .colab-df-convert:hover {\n",
              "      background-color: #434B5C;\n",
              "      box-shadow: 0px 1px 3px 1px rgba(0, 0, 0, 0.15);\n",
              "      filter: drop-shadow(0px 1px 2px rgba(0, 0, 0, 0.3));\n",
              "      fill: #FFFFFF;\n",
              "    }\n",
              "  </style>\n",
              "\n",
              "      <script>\n",
              "        const buttonEl =\n",
              "          document.querySelector('#df-e10b1d7d-714b-4315-a34f-9e3841bbb956 button.colab-df-convert');\n",
              "        buttonEl.style.display =\n",
              "          google.colab.kernel.accessAllowed ? 'block' : 'none';\n",
              "\n",
              "        async function convertToInteractive(key) {\n",
              "          const element = document.querySelector('#df-e10b1d7d-714b-4315-a34f-9e3841bbb956');\n",
              "          const dataTable =\n",
              "            await google.colab.kernel.invokeFunction('convertToInteractive',\n",
              "                                                     [key], {});\n",
              "          if (!dataTable) return;\n",
              "\n",
              "          const docLinkHtml = 'Like what you see? Visit the ' +\n",
              "            '<a target=\"_blank\" href=https://colab.research.google.com/notebooks/data_table.ipynb>data table notebook</a>'\n",
              "            + ' to learn more about interactive tables.';\n",
              "          element.innerHTML = '';\n",
              "          dataTable['output_type'] = 'display_data';\n",
              "          await google.colab.output.renderOutput(dataTable, element);\n",
              "          const docLink = document.createElement('div');\n",
              "          docLink.innerHTML = docLinkHtml;\n",
              "          element.appendChild(docLink);\n",
              "        }\n",
              "      </script>\n",
              "    </div>\n",
              "  </div>\n",
              "  "
            ]
          },
          "metadata": {},
          "execution_count": 22
        }
      ]
    },
    {
      "cell_type": "code",
      "source": [
        "all_genres = set()\n",
        "for genres in action['genre']:\n",
        "    for genre in genres.split(','):\n",
        "        all_genres.add(genre)\n",
        "\n",
        "# Count the number of movies in each genre\n",
        "genre_counts = {}\n",
        "for genre in all_genres:\n",
        "    genre_counts[genre] = 0\n",
        "for genres in action['genre']:\n",
        "    for genre in genres.split(','):\n",
        "        genre_counts[genre] += 1\n",
        "\n",
        "# Create a bar chart\n",
        "plt.bar(genre_counts.keys(), genre_counts.values())\n",
        "\n",
        "# Add labels and title to the chart\n",
        "plt.xlabel('Genres')\n",
        "plt.ylabel('Number of Movies')\n",
        "plt.title('Number of Movies by Genre')\n",
        "plt.xticks(rotation=90, fontsize=7)\n",
        "plt.show()"
      ],
      "metadata": {
        "colab": {
          "base_uri": "https://localhost:8080/",
          "height": 330
        },
        "id": "a8uG9MLjKD1Y",
        "outputId": "2f83a24b-6f8b-4c25-bffd-8521e6e99e34"
      },
      "execution_count": null,
      "outputs": [
        {
          "output_type": "display_data",
          "data": {
            "text/plain": [
              "<Figure size 432x288 with 1 Axes>"
            ],
            "image/png": "[encoded data removed]"
          },
          "metadata": {
            "needs_background": "light"
          }
        }
      ]
    }
  ]
}